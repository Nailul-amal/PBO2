{
  "nbformat": 4,
  "nbformat_minor": 0,
  "metadata": {
    "colab": {
      "provenance": [],
      "authorship_tag": "ABX9TyMxoPZq2GdjzikYbrdnGXZb",
      "include_colab_link": true
    },
    "kernelspec": {
      "name": "python3",
      "display_name": "Python 3"
    },
    "language_info": {
      "name": "python"
    }
  },
  "cells": [
    {
      "cell_type": "markdown",
      "metadata": {
        "id": "view-in-github",
        "colab_type": "text"
      },
      "source": [
        "<a href=\"https://colab.research.google.com/github/Nailul-amal/PBO2/blob/main/Menhitung_luas_persegi.ipynb\" target=\"_parent\"><img src=\"https://colab.research.google.com/assets/colab-badge.svg\" alt=\"Open In Colab\"/></a>"
      ]
    },
    {
      "cell_type": "code",
      "execution_count": 3,
      "metadata": {
        "colab": {
          "base_uri": "https://localhost:8080/"
        },
        "id": "658_y7Qb6I_V",
        "outputId": "405a5c1b-02b2-4829-e767-3791d45ef414"
      },
      "outputs": [
        {
          "output_type": "stream",
          "name": "stdout",
          "text": [
            "Luas persegi: 125\n"
          ]
        }
      ],
      "source": [
        "# Contoh 4: Kelas Persegi\n",
        "# Kelas merepresentasikan Persegi dengan atribut sisi dan method luas\n",
        "class Persegi:\n",
        "    def __init__(self, sisi):  # Constructor\n",
        "        self.sisi = sisi  # Atribut sisi\n",
        "\n",
        "    def luas(self):  # Method untuk menghitung luas persegi\n",
        "        return self.sisi ** 3\n",
        "\n",
        "# Objek dari kelas Persegi\n",
        "persegi1 = Persegi(5)  # Objek persegi1 dibuat dari kelas Persegi\n",
        "print(f\"Luas persegi: {persegi1.luas()}\")  # Memanggil method luas()"
      ]
    }
  ]
}