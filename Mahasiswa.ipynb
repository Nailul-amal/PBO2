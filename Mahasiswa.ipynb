{
  "nbformat": 4,
  "nbformat_minor": 0,
  "metadata": {
    "colab": {
      "provenance": [],
      "authorship_tag": "ABX9TyNyJeYlpDH7DSvXZ5U8ihfB",
      "include_colab_link": true
    },
    "kernelspec": {
      "name": "python3",
      "display_name": "Python 3"
    },
    "language_info": {
      "name": "python"
    }
  },
  "cells": [
    {
      "cell_type": "markdown",
      "metadata": {
        "id": "view-in-github",
        "colab_type": "text"
      },
      "source": [
        "<a href=\"https://colab.research.google.com/github/Nailul-amal/PBO2/blob/main/Mahasiswa.ipynb\" target=\"_parent\"><img src=\"https://colab.research.google.com/assets/colab-badge.svg\" alt=\"Open In Colab\"/></a>"
      ]
    },
    {
      "cell_type": "code",
      "execution_count": 2,
      "metadata": {
        "colab": {
          "base_uri": "https://localhost:8080/"
        },
        "id": "BI3Hdwub7BV8",
        "outputId": "8702bb27-7488-4696-a496-e25f43f71c20"
      },
      "outputs": [
        {
          "output_type": "stream",
          "name": "stdout",
          "text": [
            "Mahasiswa: Nailul, Jurusan: Teknologi Informasi\n"
          ]
        }
      ],
      "source": [
        "# Contoh 5: Kelas Mahasiswa\n",
        "# Kelas merepresentasikan Mahasiswa dengan atribut nama dan jurusan\n",
        "class Mahasiswa:\n",
        "    def __init__(self, nama, jurusan):  # Constructor\n",
        "        self.nama = nama  # Atribut nama\n",
        "        self.jurusan = jurusan  # Atribut jurusan\n",
        "\n",
        "    def biodata(self):  # Method untuk menampilkan data mahasiswa\n",
        "        return f\"Mahasiswa: {self.nama}, Jurusan: {self.jurusan}\"\n",
        "\n",
        "# Objek dari kelas Mahasiswa\n",
        "mahasiswa1 = Mahasiswa(\"Nailul\", \"Teknologi Informasi\")  # Objek mahasiswa1 dibuat dari kelas Mahasiswa\n",
        "print(mahasiswa1.biodata())  # Memanggil method biodata()"
      ]
    }
  ]
}