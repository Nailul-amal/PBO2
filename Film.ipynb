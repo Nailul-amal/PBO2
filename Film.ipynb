{
  "nbformat": 4,
  "nbformat_minor": 0,
  "metadata": {
    "colab": {
      "provenance": [],
      "authorship_tag": "ABX9TyMTtKDsE+ewQKhHwZvvwakK",
      "include_colab_link": true
    },
    "kernelspec": {
      "name": "python3",
      "display_name": "Python 3"
    },
    "language_info": {
      "name": "python"
    }
  },
  "cells": [
    {
      "cell_type": "markdown",
      "metadata": {
        "id": "view-in-github",
        "colab_type": "text"
      },
      "source": [
        "<a href=\"https://colab.research.google.com/github/Nailul-amal/PBO2/blob/main/Film.ipynb\" target=\"_parent\"><img src=\"https://colab.research.google.com/assets/colab-badge.svg\" alt=\"Open In Colab\"/></a>"
      ]
    },
    {
      "cell_type": "code",
      "execution_count": 2,
      "metadata": {
        "colab": {
          "base_uri": "https://localhost:8080/"
        },
        "id": "Vvg3BZeh1Ihd",
        "outputId": "973a1861-656f-4156-c221-4cbd5abff944"
      },
      "outputs": [
        {
          "output_type": "stream",
          "name": "stdout",
          "text": [
            "Film: Agak Laen disutradarai oleh Muhadkly Acho\n"
          ]
        }
      ],
      "source": [
        "# Contoh 2: Kelas Film\n",
        "# Kelas merepresentasikan Film dengan atribut judul dan sutradara\n",
        "class Film:\n",
        "    def __init__(self, judul, sutradara):  # Constructor\n",
        "        self.judul = judul  # Atribut judul\n",
        "        self.sutradara = sutradara  # Atribut sutradara\n",
        "\n",
        "    def detail(self):  # Method untuk menampilkan detail film\n",
        "        return f\"Film: {self.judul} disutradarai oleh {self.sutradara}\"\n",
        "\n",
        "# Objek dari kelas Film\n",
        "film1 = Film(\"Agak Laen\", \"Muhadkly Acho\")  # Objek film1 dibuat dari kelas Film\n",
        "print(film1.detail())  # Memanggil method detail()\n"
      ]
    }
  ]
}