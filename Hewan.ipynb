{
  "nbformat": 4,
  "nbformat_minor": 0,
  "metadata": {
    "colab": {
      "provenance": [],
      "authorship_tag": "ABX9TyOvMMTjOVyrKod5UwmYfvOp",
      "include_colab_link": true
    },
    "kernelspec": {
      "name": "python3",
      "display_name": "Python 3"
    },
    "language_info": {
      "name": "python"
    }
  },
  "cells": [
    {
      "cell_type": "markdown",
      "metadata": {
        "id": "view-in-github",
        "colab_type": "text"
      },
      "source": [
        "<a href=\"https://colab.research.google.com/github/Nailul-amal/PBO2/blob/main/Hewan.ipynb\" target=\"_parent\"><img src=\"https://colab.research.google.com/assets/colab-badge.svg\" alt=\"Open In Colab\"/></a>"
      ]
    },
    {
      "cell_type": "code",
      "execution_count": 7,
      "metadata": {
        "colab": {
          "base_uri": "https://localhost:8080/"
        },
        "id": "HFTxnIp74BfP",
        "outputId": "c4a0eabe-0609-4a57-9626-716ccf0caa39"
      },
      "outputs": [
        {
          "output_type": "stream",
          "name": "stdout",
          "text": [
            "Hewan = Kucing berkaki 4\n"
          ]
        }
      ],
      "source": [
        "# Contoh 3: Kelas Hewan\n",
        "# Kelas merepresentasikan Hewan dengan atribut jenis dan jumlah_kaki\n",
        "class Hewan:\n",
        "    def __init__(self, jenis, jumlah_kaki):  # Constructor\n",
        "        self.jenis = jenis  # Atribut jenis\n",
        "        self.jumlah_kaki = jumlah_kaki  # Atribut jumlah_kaki\n",
        "\n",
        "    def jumlah_kaki_hewan(self):  # Method untuk menampilkan jumlah_kaki hewan\n",
        "        return f\"{self.jenis} berkaki {self.jumlah_kaki}\"\n",
        "\n",
        "# Objek dari kelas Hewan\n",
        "hewan1 = Hewan(\"Kucing\", \"4\")  # Objek hewan1 dibuat dari kelas Hewan\n",
        "print(\"Hewan =\", hewan1.jumlah_kaki_hewan())  # Memanggil method jumlah_kaki_hewan()"
      ]
    }
  ]
}