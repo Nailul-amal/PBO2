{
  "nbformat": 4,
  "nbformat_minor": 0,
  "metadata": {
    "colab": {
      "provenance": [],
      "authorship_tag": "ABX9TyOeocOB7Qrp++GYca8G/YbW",
      "include_colab_link": true
    },
    "kernelspec": {
      "name": "python3",
      "display_name": "Python 3"
    },
    "language_info": {
      "name": "python"
    }
  },
  "cells": [
    {
      "cell_type": "markdown",
      "metadata": {
        "id": "view-in-github",
        "colab_type": "text"
      },
      "source": [
        "<a href=\"https://colab.research.google.com/github/Nailul-amal/PBO2/blob/main/Laptop.ipynb\" target=\"_parent\"><img src=\"https://colab.research.google.com/assets/colab-badge.svg\" alt=\"Open In Colab\"/></a>"
      ]
    },
    {
      "cell_type": "code",
      "execution_count": 1,
      "metadata": {
        "colab": {
          "base_uri": "https://localhost:8080/"
        },
        "id": "0Z47c-E5yz6-",
        "outputId": "47678d0d-2817-4d19-8a0e-7e9fe44de4d2"
      },
      "outputs": [
        {
          "output_type": "stream",
          "name": "stdout",
          "text": [
            "Laptop: Asus, Harga: Rp10000000\n"
          ]
        }
      ],
      "source": [
        "# Contoh 1: Kelas Laptop\n",
        "# Kelas merepresentasikan Laptop dengan atribut merk dan harga\n",
        "class Laptop:\n",
        "    def __init__(self, merk, harga):  # Constructor (method khusus untuk inisialisasi atribut)\n",
        "        self.merk = merk  # Atribut merk\n",
        "        self.harga = harga  # Atribut harga\n",
        "\n",
        "    def info(self):  # Method untuk menampilkan informasi laptop\n",
        "        return f\"Laptop: {self.merk}, Harga: Rp{self.harga}\"\n",
        "\n",
        "# Objek dari kelas Laptop\n",
        "laptop1 = Laptop(\"Asus\", 10000000)  # Objek laptop1 dibuat dari kelas Laptop\n",
        "print(laptop1.info())  # Memanggil method info()"
      ]
    }
  ]
}